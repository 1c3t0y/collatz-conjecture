{
 "cells": [
  {
   "cell_type": "markdown",
   "metadata": {},
   "source": [
    "# Examples of functions inside dynamical.py file\n",
    "\n",
    "In this notebook you will find some examples and short documentation of each function in dynamical.py file. The dynamical.py contains multiple functions aimed to analyze discrete dynamical systems and it's characteristics such as: orbits, periods, plots, fixed points, etc. It is important to note that $f(x)$ should be a real-valued function, however a different kind of function could be used, it depends on the type of the result of $f(x)$ and how is managed. Please have this in mind in case you are using a non real-valued function."
   ]
  },
  {
   "cell_type": "markdown",
   "metadata": {},
   "source": [
    "## Importing the dyncamical.py file\n",
    "\n",
    "The importing method of this file assumes that this notebook is inside /Collatz/Examples folder, if you are working in a different folder follow some of the examples in https://www.geeksforgeeks.org/python-import-module-from-different-directory/"
   ]
  },
  {
   "cell_type": "code",
   "execution_count": 1,
   "metadata": {},
   "outputs": [],
   "source": [
    "# Adding collatz package to python path\n",
    "import sys\n",
    "sys.path.append('..')\n",
    "\n",
    "# importing the dynamical package\n",
    "from collatz import dynamical\n",
    "\n",
    "#other useful libraries\n",
    "import numpy as np\n",
    "import random"
   ]
  },
  {
   "cell_type": "markdown",
   "metadata": {},
   "source": [
    "## Logistic map example\n",
    "The logistic map $f(x) = rx(1-x)$ is used as example in this notebook. Note that this function receives a value $x$ and a parameter $r$, the functions of dynamical.py are design to deal with such functions using *args and **kwargs for the parameters of the procedutre. "
   ]
  },
  {
   "cell_type": "code",
   "execution_count": 2,
   "metadata": {},
   "outputs": [
    {
     "name": "stdout",
     "output_type": "stream",
     "text": [
      "0.5\n"
     ]
    }
   ],
   "source": [
    "#Logistic map, function used as example\n",
    "\n",
    "def logistic_map(x, r):\n",
    "    return r*x*(1-x)\n",
    "\n",
    "print(logistic_map(0.5, 2))\n"
   ]
  },
  {
   "cell_type": "markdown",
   "metadata": {},
   "source": [
    "## dynamical.orbit(x0, iterations, function, *args, **kwargs)\n",
    "This function computes the orbit of a initial value $x_0$ over a map $f(x)$ and returns it as a *list*.\n",
    "\n",
    "Parameters:\n",
    "\n",
    "* **x0:** Initial value.\n",
    "* **iterations:** (int) Number of iterations to apply over x0.\n",
    "* **function:** (pointer) Function on which the discrete dynamical system is defined.\n",
    "* **\\*args:** (list) Non key-word arguments form the function.\n",
    "* **\\*\\*kwargs:** (dictionary) key-word arguments form the function."
   ]
  },
  {
   "cell_type": "code",
   "execution_count": 3,
   "metadata": {},
   "outputs": [
    {
     "data": {
      "text/plain": [
       "[0.1,\n",
       " 0.18000000000000002,\n",
       " 0.2952,\n",
       " 0.41611392,\n",
       " 0.4859262511644672,\n",
       " 0.49960385918742867,\n",
       " 0.49999968614491325,\n",
       " 0.49999999999980305,\n",
       " 0.5,\n",
       " 0.5,\n",
       " 0.5]"
      ]
     },
     "execution_count": 3,
     "metadata": {},
     "output_type": "execute_result"
    }
   ],
   "source": [
    "dynamical.orbit(x0 = 0.1, iterations = 10, function = logistic_map, r = 2) # is the parameter of logistic_map"
   ]
  },
  {
   "cell_type": "markdown",
   "metadata": {},
   "source": [
    "## dynamical.periodic_orbit(x0, function, stop_iterations = 100, *args, **kwargs)\n",
    "This function computes the periodic orbit of a initial value $x_0$ over a map $f(x)$ and returns two elements: a *list* with the orbit and an integer that represents the *period*. If stop_iterations is reached whithout finding a periodic orbit, it returns a period of -1. If the initial value $x_0$ converges to a periodic orbit, the function returns the periodic orbit and its period.\n",
    "\n",
    "Parameters:\n",
    "\n",
    "* **x0:** Initial value.\n",
    "* **stop_iterations:** (int) Maximum number of iterations to apply over x0.\n",
    "* **function:** Function on which the discrete dynamical system is defined.\n",
    "* **\\*args:** Non key-word arguments form the function.\n",
    "* **\\*\\*kwargs:** key-word arguments form the function."
   ]
  },
  {
   "cell_type": "code",
   "execution_count": 4,
   "metadata": {},
   "outputs": [
    {
     "name": "stdout",
     "output_type": "stream",
     "text": [
      "period:  1\n",
      "orbit:  [0.5]\n"
     ]
    }
   ],
   "source": [
    "orbit, period = dynamical.periodic_orbit(x0 = 0.1, stop_iterations = 20, function = logistic_map, r = 2)\n",
    "print(\"period: \", period)\n",
    "print(\"orbit: \",orbit)"
   ]
  },
  {
   "cell_type": "code",
   "execution_count": 5,
   "metadata": {},
   "outputs": [
    {
     "name": "stdout",
     "output_type": "stream",
     "text": [
      "period:  -1\n",
      "orbit:  [0.3, 0.21, 0.1659, 0.13837719, 0.1192289432877039, 0.10501340237020139, 0.09398558769283556, 0.08515229699886788, 0.07790138331468448, 0.07183275779234308, 0.06667281270028964, 0.06222754874692174, 0.05835528092387122, 0.05494994211216729, 0.05193044597403675, 0.0492336747549744, 0.04680972002509579, 0.04461857013626794, 0.04262775333526288, 0.04081062798085086, 0.039145120624659455]\n"
     ]
    }
   ],
   "source": [
    "orbit, period = dynamical.periodic_orbit(x0 = 0.3, stop_iterations = 20, function = logistic_map, r = 1)\n",
    "print(\"period: \", period)\n",
    "print(\"orbit: \", orbit)"
   ]
  },
  {
   "cell_type": "code",
   "execution_count": 6,
   "metadata": {},
   "outputs": [
    {
     "name": "stdout",
     "output_type": "stream",
     "text": [
      "period:  3\n",
      "orbit:  [0.9586345965875396, 0.15207426662779683, 0.494514368360185]\n"
     ]
    }
   ],
   "source": [
    "orbit, period = dynamical.periodic_orbit(x0 = 0.152074, stop_iterations = 300, function = logistic_map, r = 3.835)\n",
    "print(\"period: \", period)\n",
    "print(\"orbit: \", orbit)"
   ]
  },
  {
   "cell_type": "markdown",
   "metadata": {},
   "source": [
    "# dynamical.search_periodic_orbits(values, function, stop_iterations = 100, *args, **kwargs)"
   ]
  },
  {
   "cell_type": "code",
   "execution_count": 9,
   "metadata": {},
   "outputs": [
    {
     "name": "stdout",
     "output_type": "stream",
     "text": [
      "Number of values to be tested on:  10\n",
      "0.7883503406715412 :  {(0.9586345965875396, 0.15207426662779683, 0.494514368360185)}\n",
      "0.5016729706312173 :  {(0.9586345965875396, 0.15207426662779683, 0.494514368360185)}\n"
     ]
    }
   ],
   "source": [
    "values = np.random.uniform(0,1, size = 10)\n",
    "print(\"Number of values to be tested on: \", len(values))\n",
    "\n",
    "search = dynamical.search_periodic_orbits(values, logistic_map, stop_iterations=300, r = 3.835)\n",
    "\n",
    "for period, orbit in search.items():\n",
    "\t#orbit2 = list(dict.fromkeys(orbit))\n",
    "\tprint(period, \": \", orbit )"
   ]
  }
 ],
 "metadata": {
  "interpreter": {
   "hash": "590a0e756721a867312b5eb9a36e651c678bce49d42bd69ce879c44d6221e544"
  },
  "kernelspec": {
   "display_name": "Python 3.10.1 64-bit ('collatz-env': venv)",
   "language": "python",
   "name": "python3"
  },
  "language_info": {
   "codemirror_mode": {
    "name": "ipython",
    "version": 3
   },
   "file_extension": ".py",
   "mimetype": "text/x-python",
   "name": "python",
   "nbconvert_exporter": "python",
   "pygments_lexer": "ipython3",
   "version": "3.10.1"
  },
  "orig_nbformat": 4
 },
 "nbformat": 4,
 "nbformat_minor": 2
}
